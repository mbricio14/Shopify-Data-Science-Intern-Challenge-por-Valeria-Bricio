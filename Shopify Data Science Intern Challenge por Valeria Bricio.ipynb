{
 "cells": [
  {
   "cell_type": "markdown",
   "id": "af3be974",
   "metadata": {},
   "source": [
    "# ..........................................Summer 2022 DS Internship...................................."
   ]
  },
  {
   "cell_type": "markdown",
   "id": "27732b67",
   "metadata": {},
   "source": [
    "<img src=\"https://victordwyer.com/wp-content/uploads/2021/09/Shopify.jpg\" width=400 />"
   ]
  },
  {
   "cell_type": "markdown",
   "id": "94814140",
   "metadata": {},
   "source": [
    "<h2> Context</h2> "
   ]
  },
  {
   "cell_type": "markdown",
   "id": "bf97615e",
   "metadata": {},
   "source": [
    "On Shopify, we have exactly 100 sneaker shops, and each of these shops sells only one model of shoe. We want to do some analysis of the average order value (AOV). When we look at orders data over a 30 day window, we naively calculate an AOV of $3145.13. Given that we know these shops are selling sneakers, a relatively affordable item, something seems wrong with our analysis. "
   ]
  },
  {
   "cell_type": "markdown",
   "id": "b17c357d",
   "metadata": {},
   "source": [
    "    1.Think about what could be going wrong with our calculation. Think about a better way to evaluate this data. \n",
    "    2.What metric would you report for this dataset?\n",
    "    3.What is its value?\n"
   ]
  },
  {
   "cell_type": "markdown",
   "id": "b782b16f",
   "metadata": {},
   "source": [
    "<h2>The Data Science Process</h2>"
   ]
  },
  {
   "cell_type": "markdown",
   "id": "2bd830db",
   "metadata": {},
   "source": [
    "<h3>Analysis</h3>"
   ]
  },
  {
   "cell_type": "markdown",
   "id": "d49bd1af",
   "metadata": {},
   "source": [
    "By using the data science process, I will determine the necessary data, clean+organize, explore, model the data and communicate what I can find based on the information provided."
   ]
  },
  {
   "cell_type": "code",
   "execution_count": 120,
   "id": "736275d7",
   "metadata": {},
   "outputs": [],
   "source": [
    "import pandas as pd   #pandas allow us to import an excel file\n",
    "import numpy as np    #math package \n",
    "import statistics"
   ]
  },
  {
   "cell_type": "code",
   "execution_count": 2,
   "id": "451f1d01",
   "metadata": {},
   "outputs": [],
   "source": [
    "#let's import our data\n",
    "df = pd.read_excel(r'C:\\Users\\mvale\\OneDrive\\Escritorio\\Shopify\\dataset2019.xlsx')"
   ]
  },
  {
   "cell_type": "code",
   "execution_count": 71,
   "id": "c6ad9c79",
   "metadata": {},
   "outputs": [
    {
     "data": {
      "text/html": [
       "<div>\n",
       "<style scoped>\n",
       "    .dataframe tbody tr th:only-of-type {\n",
       "        vertical-align: middle;\n",
       "    }\n",
       "\n",
       "    .dataframe tbody tr th {\n",
       "        vertical-align: top;\n",
       "    }\n",
       "\n",
       "    .dataframe thead th {\n",
       "        text-align: right;\n",
       "    }\n",
       "</style>\n",
       "<table border=\"1\" class=\"dataframe\">\n",
       "  <thead>\n",
       "    <tr style=\"text-align: right;\">\n",
       "      <th></th>\n",
       "      <th>order_amount</th>\n",
       "    </tr>\n",
       "  </thead>\n",
       "  <tbody>\n",
       "    <tr>\n",
       "      <th>count</th>\n",
       "      <td>5000.000000</td>\n",
       "    </tr>\n",
       "    <tr>\n",
       "      <th>mean</th>\n",
       "      <td>3145.128000</td>\n",
       "    </tr>\n",
       "    <tr>\n",
       "      <th>std</th>\n",
       "      <td>41282.539349</td>\n",
       "    </tr>\n",
       "    <tr>\n",
       "      <th>min</th>\n",
       "      <td>90.000000</td>\n",
       "    </tr>\n",
       "    <tr>\n",
       "      <th>25%</th>\n",
       "      <td>163.000000</td>\n",
       "    </tr>\n",
       "    <tr>\n",
       "      <th>50%</th>\n",
       "      <td>284.000000</td>\n",
       "    </tr>\n",
       "    <tr>\n",
       "      <th>75%</th>\n",
       "      <td>390.000000</td>\n",
       "    </tr>\n",
       "    <tr>\n",
       "      <th>max</th>\n",
       "      <td>704000.000000</td>\n",
       "    </tr>\n",
       "  </tbody>\n",
       "</table>\n",
       "</div>"
      ],
      "text/plain": [
       "        order_amount\n",
       "count    5000.000000\n",
       "mean     3145.128000\n",
       "std     41282.539349\n",
       "min        90.000000\n",
       "25%       163.000000\n",
       "50%       284.000000\n",
       "75%       390.000000\n",
       "max    704000.000000"
      ]
     },
     "execution_count": 71,
     "metadata": {},
     "output_type": "execute_result"
    }
   ],
   "source": [
    "#First look into what the numbers say.\n",
    "df[['order_amount']].describe()"
   ]
  },
  {
   "cell_type": "markdown",
   "id": "f6de3d1f",
   "metadata": {},
   "source": [
    "Descriptive statistics.\n",
    "What are these numbers telling us?\n",
    "\n",
    "MAX stands out, let's analyze this next to the amount of items being purcahsed."
   ]
  },
  {
   "cell_type": "code",
   "execution_count": 7,
   "id": "2219e10f",
   "metadata": {},
   "outputs": [
    {
     "data": {
      "text/html": [
       "<div>\n",
       "<style scoped>\n",
       "    .dataframe tbody tr th:only-of-type {\n",
       "        vertical-align: middle;\n",
       "    }\n",
       "\n",
       "    .dataframe tbody tr th {\n",
       "        vertical-align: top;\n",
       "    }\n",
       "\n",
       "    .dataframe thead th {\n",
       "        text-align: right;\n",
       "    }\n",
       "</style>\n",
       "<table border=\"1\" class=\"dataframe\">\n",
       "  <thead>\n",
       "    <tr style=\"text-align: right;\">\n",
       "      <th></th>\n",
       "      <th>order_amount</th>\n",
       "      <th>total_items</th>\n",
       "    </tr>\n",
       "  </thead>\n",
       "  <tbody>\n",
       "    <tr>\n",
       "      <th>count</th>\n",
       "      <td>5000.000000</td>\n",
       "      <td>5000.00000</td>\n",
       "    </tr>\n",
       "    <tr>\n",
       "      <th>mean</th>\n",
       "      <td>3145.128000</td>\n",
       "      <td>8.78720</td>\n",
       "    </tr>\n",
       "    <tr>\n",
       "      <th>std</th>\n",
       "      <td>41282.539349</td>\n",
       "      <td>116.32032</td>\n",
       "    </tr>\n",
       "    <tr>\n",
       "      <th>min</th>\n",
       "      <td>90.000000</td>\n",
       "      <td>1.00000</td>\n",
       "    </tr>\n",
       "    <tr>\n",
       "      <th>25%</th>\n",
       "      <td>163.000000</td>\n",
       "      <td>1.00000</td>\n",
       "    </tr>\n",
       "    <tr>\n",
       "      <th>50%</th>\n",
       "      <td>284.000000</td>\n",
       "      <td>2.00000</td>\n",
       "    </tr>\n",
       "    <tr>\n",
       "      <th>75%</th>\n",
       "      <td>390.000000</td>\n",
       "      <td>3.00000</td>\n",
       "    </tr>\n",
       "    <tr>\n",
       "      <th>max</th>\n",
       "      <td>704000.000000</td>\n",
       "      <td>2000.00000</td>\n",
       "    </tr>\n",
       "  </tbody>\n",
       "</table>\n",
       "</div>"
      ],
      "text/plain": [
       "        order_amount  total_items\n",
       "count    5000.000000   5000.00000\n",
       "mean     3145.128000      8.78720\n",
       "std     41282.539349    116.32032\n",
       "min        90.000000      1.00000\n",
       "25%       163.000000      1.00000\n",
       "50%       284.000000      2.00000\n",
       "75%       390.000000      3.00000\n",
       "max    704000.000000   2000.00000"
      ]
     },
     "execution_count": 7,
     "metadata": {},
     "output_type": "execute_result"
    }
   ],
   "source": [
    "df[['order_amount','total_items']].describe()"
   ]
  },
  {
   "cell_type": "markdown",
   "id": "b2e6ee04",
   "metadata": {},
   "source": [
    "70400 order amount doesn't sound like an average purchase.\n",
    "We have 2 high values. Are they be mutually dependant?\n",
    "\n",
    "To resolve this enigma, first step consists on doing some computing magic to see if the unit price reflects the order amount."
   ]
  },
  {
   "cell_type": "markdown",
   "id": "d09e3ed5",
   "metadata": {},
   "source": [
    "<h3>Science</h3>"
   ]
  },
  {
   "cell_type": "code",
   "execution_count": 14,
   "id": "3434dae3",
   "metadata": {},
   "outputs": [],
   "source": [
    "#The relevant columns for this are shop_id, total_items and order_amount. let's clean the data.\n",
    "dfsci = df.copy()\n",
    "dfsci = dfsci [['shop_id','total_items', 'order_amount']]"
   ]
  },
  {
   "cell_type": "code",
   "execution_count": 19,
   "id": "94c30d76",
   "metadata": {},
   "outputs": [],
   "source": [
    "#Let's create a variable that stores the result of the division between the amount and items to find the price \n",
    "#of each pair of sneakers.\n",
    "dfsci['unit_price'] = dfsci['order_amount']/ dfsci['total_items']"
   ]
  },
  {
   "cell_type": "code",
   "execution_count": 22,
   "id": "21966b40",
   "metadata": {},
   "outputs": [
    {
     "data": {
      "text/html": [
       "<div>\n",
       "<style scoped>\n",
       "    .dataframe tbody tr th:only-of-type {\n",
       "        vertical-align: middle;\n",
       "    }\n",
       "\n",
       "    .dataframe tbody tr th {\n",
       "        vertical-align: top;\n",
       "    }\n",
       "\n",
       "    .dataframe thead th {\n",
       "        text-align: right;\n",
       "    }\n",
       "</style>\n",
       "<table border=\"1\" class=\"dataframe\">\n",
       "  <thead>\n",
       "    <tr style=\"text-align: right;\">\n",
       "      <th></th>\n",
       "      <th>shop_id</th>\n",
       "      <th>total_items</th>\n",
       "      <th>order_amount</th>\n",
       "      <th>unit_price</th>\n",
       "    </tr>\n",
       "  </thead>\n",
       "  <tbody>\n",
       "    <tr>\n",
       "      <th>count</th>\n",
       "      <td>5000.000000</td>\n",
       "      <td>5000.00000</td>\n",
       "      <td>5000.000000</td>\n",
       "      <td>5000.000000</td>\n",
       "    </tr>\n",
       "    <tr>\n",
       "      <th>mean</th>\n",
       "      <td>50.078800</td>\n",
       "      <td>8.78720</td>\n",
       "      <td>3145.128000</td>\n",
       "      <td>387.742800</td>\n",
       "    </tr>\n",
       "    <tr>\n",
       "      <th>std</th>\n",
       "      <td>29.006118</td>\n",
       "      <td>116.32032</td>\n",
       "      <td>41282.539349</td>\n",
       "      <td>2441.963725</td>\n",
       "    </tr>\n",
       "    <tr>\n",
       "      <th>min</th>\n",
       "      <td>1.000000</td>\n",
       "      <td>1.00000</td>\n",
       "      <td>90.000000</td>\n",
       "      <td>90.000000</td>\n",
       "    </tr>\n",
       "    <tr>\n",
       "      <th>25%</th>\n",
       "      <td>24.000000</td>\n",
       "      <td>1.00000</td>\n",
       "      <td>163.000000</td>\n",
       "      <td>133.000000</td>\n",
       "    </tr>\n",
       "    <tr>\n",
       "      <th>50%</th>\n",
       "      <td>50.000000</td>\n",
       "      <td>2.00000</td>\n",
       "      <td>284.000000</td>\n",
       "      <td>153.000000</td>\n",
       "    </tr>\n",
       "    <tr>\n",
       "      <th>75%</th>\n",
       "      <td>75.000000</td>\n",
       "      <td>3.00000</td>\n",
       "      <td>390.000000</td>\n",
       "      <td>169.000000</td>\n",
       "    </tr>\n",
       "    <tr>\n",
       "      <th>max</th>\n",
       "      <td>100.000000</td>\n",
       "      <td>2000.00000</td>\n",
       "      <td>704000.000000</td>\n",
       "      <td>25725.000000</td>\n",
       "    </tr>\n",
       "  </tbody>\n",
       "</table>\n",
       "</div>"
      ],
      "text/plain": [
       "           shop_id  total_items   order_amount    unit_price\n",
       "count  5000.000000   5000.00000    5000.000000   5000.000000\n",
       "mean     50.078800      8.78720    3145.128000    387.742800\n",
       "std      29.006118    116.32032   41282.539349   2441.963725\n",
       "min       1.000000      1.00000      90.000000     90.000000\n",
       "25%      24.000000      1.00000     163.000000    133.000000\n",
       "50%      50.000000      2.00000     284.000000    153.000000\n",
       "75%      75.000000      3.00000     390.000000    169.000000\n",
       "max     100.000000   2000.00000  704000.000000  25725.000000"
      ]
     },
     "execution_count": 22,
     "metadata": {},
     "output_type": "execute_result"
    }
   ],
   "source": [
    "#Mean of unit_price, max of unit price and order amount.\n",
    "dfsci.describe()"
   ]
  },
  {
   "cell_type": "markdown",
   "id": "dc1af595",
   "metadata": {},
   "source": [
    "We are getting close, here we still see some shoes pricing very high."
   ]
  },
  {
   "cell_type": "code",
   "execution_count": 79,
   "id": "9182bb6d",
   "metadata": {},
   "outputs": [
    {
     "data": {
      "text/html": [
       "<div>\n",
       "<style scoped>\n",
       "    .dataframe tbody tr th:only-of-type {\n",
       "        vertical-align: middle;\n",
       "    }\n",
       "\n",
       "    .dataframe tbody tr th {\n",
       "        vertical-align: top;\n",
       "    }\n",
       "\n",
       "    .dataframe thead th {\n",
       "        text-align: right;\n",
       "    }\n",
       "</style>\n",
       "<table border=\"1\" class=\"dataframe\">\n",
       "  <thead>\n",
       "    <tr style=\"text-align: right;\">\n",
       "      <th></th>\n",
       "      <th>shop_id</th>\n",
       "      <th>unit_price</th>\n",
       "    </tr>\n",
       "  </thead>\n",
       "  <tbody>\n",
       "    <tr>\n",
       "      <th>77</th>\n",
       "      <td>78</td>\n",
       "      <td>25725.0</td>\n",
       "    </tr>\n",
       "    <tr>\n",
       "      <th>41</th>\n",
       "      <td>42</td>\n",
       "      <td>352.0</td>\n",
       "    </tr>\n",
       "    <tr>\n",
       "      <th>11</th>\n",
       "      <td>12</td>\n",
       "      <td>201.0</td>\n",
       "    </tr>\n",
       "    <tr>\n",
       "      <th>88</th>\n",
       "      <td>89</td>\n",
       "      <td>196.0</td>\n",
       "    </tr>\n",
       "    <tr>\n",
       "      <th>98</th>\n",
       "      <td>99</td>\n",
       "      <td>195.0</td>\n",
       "    </tr>\n",
       "  </tbody>\n",
       "</table>\n",
       "</div>"
      ],
      "text/plain": [
       "    shop_id  unit_price\n",
       "77       78     25725.0\n",
       "41       42       352.0\n",
       "11       12       201.0\n",
       "88       89       196.0\n",
       "98       99       195.0"
      ]
     },
     "execution_count": 79,
     "metadata": {},
     "output_type": "execute_result"
    }
   ],
   "source": [
    "#Table to show the mean of unit price per shop to find which shop is selling gold sneakers.\n",
    "dfsci.groupby(dfsci['shop_id'])['unit_price'].mean().reset_index().sort_values(by=['unit_price'], ascending = False).head()"
   ]
  },
  {
   "cell_type": "markdown",
   "id": "ec3ade04",
   "metadata": {},
   "source": [
    "Based on these numbers, if we take out store 78 from our data source we get closer to the information we need."
   ]
  },
  {
   "cell_type": "code",
   "execution_count": 34,
   "id": "fbf364cd",
   "metadata": {},
   "outputs": [
    {
     "data": {
      "text/plain": [
       "152.47557529269278"
      ]
     },
     "execution_count": 34,
     "metadata": {},
     "output_type": "execute_result"
    }
   ],
   "source": [
    "#Here we calculate the mean of the unit price of our data when we drop store 78\n",
    "np.mean(dfsci[dfsci['shop_id'] != 78]['unit_price'])"
   ]
  },
  {
   "cell_type": "markdown",
   "id": "f240095c",
   "metadata": {},
   "source": [
    "Let's calculate the new AOV when we drop store 78."
   ]
  },
  {
   "cell_type": "markdown",
   "id": "44e90c66",
   "metadata": {},
   "source": [
    "  $$ AOV= Revenue / NumberofOrders $$"
   ]
  },
  {
   "cell_type": "code",
   "execution_count": 118,
   "id": "0df567e9",
   "metadata": {},
   "outputs": [
    {
     "ename": "TypeError",
     "evalue": "'list' object is not callable",
     "output_type": "error",
     "traceback": [
      "\u001b[1;31m---------------------------------------------------------------------------\u001b[0m",
      "\u001b[1;31mTypeError\u001b[0m                                 Traceback (most recent call last)",
      "\u001b[1;32m~\\AppData\\Local\\Temp/ipykernel_14580/4093191760.py\u001b[0m in \u001b[0;36m<module>\u001b[1;34m\u001b[0m\n\u001b[0;32m      1\u001b[0m \u001b[0maov\u001b[0m \u001b[1;33m=\u001b[0m \u001b[1;36m13461840\u001b[0m \u001b[1;33m/\u001b[0m \u001b[1;36m4955\u001b[0m\u001b[1;33m\u001b[0m\u001b[1;33m\u001b[0m\u001b[0m\n\u001b[1;32m----> 2\u001b[1;33m \u001b[0mprint\u001b[0m\u001b[1;33m(\u001b[0m\u001b[0maov\u001b[0m\u001b[1;33m)\u001b[0m\u001b[1;33m\u001b[0m\u001b[1;33m\u001b[0m\u001b[0m\n\u001b[0m",
      "\u001b[1;31mTypeError\u001b[0m: 'list' object is not callable"
     ]
    }
   ],
   "source": [
    "aov = 13461840 / 4955\n",
    "print(aov)"
   ]
  },
  {
   "cell_type": "markdown",
   "id": "d0a80f6a",
   "metadata": {},
   "source": [
    "Close, but there is another store that gets our AOV very high. "
   ]
  },
  {
   "cell_type": "code",
   "execution_count": 68,
   "id": "37097b71",
   "metadata": {},
   "outputs": [],
   "source": [
    "#Create a new variable to save our data from dropping store 78.\n",
    "dfsci_1 = dfsci [(dfsci['shop_id'] != 78)]"
   ]
  },
  {
   "cell_type": "code",
   "execution_count": 69,
   "id": "deea8dbe",
   "metadata": {},
   "outputs": [
    {
     "data": {
      "text/html": [
       "<div>\n",
       "<style scoped>\n",
       "    .dataframe tbody tr th:only-of-type {\n",
       "        vertical-align: middle;\n",
       "    }\n",
       "\n",
       "    .dataframe tbody tr th {\n",
       "        vertical-align: top;\n",
       "    }\n",
       "\n",
       "    .dataframe thead th {\n",
       "        text-align: right;\n",
       "    }\n",
       "</style>\n",
       "<table border=\"1\" class=\"dataframe\">\n",
       "  <thead>\n",
       "    <tr style=\"text-align: right;\">\n",
       "      <th></th>\n",
       "      <th>shop_id</th>\n",
       "      <th>total_items</th>\n",
       "      <th>order_amount</th>\n",
       "      <th>unit_price</th>\n",
       "    </tr>\n",
       "  </thead>\n",
       "  <tbody>\n",
       "    <tr>\n",
       "      <th>count</th>\n",
       "      <td>4954.000000</td>\n",
       "      <td>4954.000000</td>\n",
       "      <td>4954.000000</td>\n",
       "      <td>4954.000000</td>\n",
       "    </tr>\n",
       "    <tr>\n",
       "      <th>mean</th>\n",
       "      <td>49.819540</td>\n",
       "      <td>8.851029</td>\n",
       "      <td>2717.367784</td>\n",
       "      <td>152.475575</td>\n",
       "    </tr>\n",
       "    <tr>\n",
       "      <th>std</th>\n",
       "      <td>29.014845</td>\n",
       "      <td>116.857286</td>\n",
       "      <td>41155.996469</td>\n",
       "      <td>31.260218</td>\n",
       "    </tr>\n",
       "    <tr>\n",
       "      <th>min</th>\n",
       "      <td>1.000000</td>\n",
       "      <td>1.000000</td>\n",
       "      <td>90.000000</td>\n",
       "      <td>90.000000</td>\n",
       "    </tr>\n",
       "    <tr>\n",
       "      <th>25%</th>\n",
       "      <td>24.000000</td>\n",
       "      <td>1.000000</td>\n",
       "      <td>163.000000</td>\n",
       "      <td>132.000000</td>\n",
       "    </tr>\n",
       "    <tr>\n",
       "      <th>50%</th>\n",
       "      <td>50.000000</td>\n",
       "      <td>2.000000</td>\n",
       "      <td>284.000000</td>\n",
       "      <td>153.000000</td>\n",
       "    </tr>\n",
       "    <tr>\n",
       "      <th>75%</th>\n",
       "      <td>74.000000</td>\n",
       "      <td>3.000000</td>\n",
       "      <td>390.000000</td>\n",
       "      <td>168.000000</td>\n",
       "    </tr>\n",
       "    <tr>\n",
       "      <th>max</th>\n",
       "      <td>100.000000</td>\n",
       "      <td>2000.000000</td>\n",
       "      <td>704000.000000</td>\n",
       "      <td>352.000000</td>\n",
       "    </tr>\n",
       "  </tbody>\n",
       "</table>\n",
       "</div>"
      ],
      "text/plain": [
       "           shop_id  total_items   order_amount   unit_price\n",
       "count  4954.000000  4954.000000    4954.000000  4954.000000\n",
       "mean     49.819540     8.851029    2717.367784   152.475575\n",
       "std      29.014845   116.857286   41155.996469    31.260218\n",
       "min       1.000000     1.000000      90.000000    90.000000\n",
       "25%      24.000000     1.000000     163.000000   132.000000\n",
       "50%      50.000000     2.000000     284.000000   153.000000\n",
       "75%      74.000000     3.000000     390.000000   168.000000\n",
       "max     100.000000  2000.000000  704000.000000   352.000000"
      ]
     },
     "execution_count": 69,
     "metadata": {},
     "output_type": "execute_result"
    }
   ],
   "source": [
    "#With the new data, let's see which store is causing all this noise.\n",
    "dfsci_1.describe()"
   ]
  },
  {
   "cell_type": "markdown",
   "id": "abecee74",
   "metadata": {},
   "source": [
    "After reviewing this information, we have a unit price about 150 higher than the average and the order amount is still high, let's compare that with the total_items. "
   ]
  },
  {
   "cell_type": "code",
   "execution_count": 78,
   "id": "8bba3d6a",
   "metadata": {},
   "outputs": [
    {
     "data": {
      "text/html": [
       "<div>\n",
       "<style scoped>\n",
       "    .dataframe tbody tr th:only-of-type {\n",
       "        vertical-align: middle;\n",
       "    }\n",
       "\n",
       "    .dataframe tbody tr th {\n",
       "        vertical-align: top;\n",
       "    }\n",
       "\n",
       "    .dataframe thead th {\n",
       "        text-align: right;\n",
       "    }\n",
       "</style>\n",
       "<table border=\"1\" class=\"dataframe\">\n",
       "  <thead>\n",
       "    <tr style=\"text-align: right;\">\n",
       "      <th></th>\n",
       "      <th>shop_id</th>\n",
       "      <th>total_items</th>\n",
       "    </tr>\n",
       "  </thead>\n",
       "  <tbody>\n",
       "    <tr>\n",
       "      <th>41</th>\n",
       "      <td>42</td>\n",
       "      <td>2000</td>\n",
       "    </tr>\n",
       "    <tr>\n",
       "      <th>53</th>\n",
       "      <td>54</td>\n",
       "      <td>8</td>\n",
       "    </tr>\n",
       "    <tr>\n",
       "      <th>84</th>\n",
       "      <td>86</td>\n",
       "      <td>6</td>\n",
       "    </tr>\n",
       "    <tr>\n",
       "      <th>67</th>\n",
       "      <td>68</td>\n",
       "      <td>6</td>\n",
       "    </tr>\n",
       "    <tr>\n",
       "      <th>66</th>\n",
       "      <td>67</td>\n",
       "      <td>6</td>\n",
       "    </tr>\n",
       "  </tbody>\n",
       "</table>\n",
       "</div>"
      ],
      "text/plain": [
       "    shop_id  total_items\n",
       "41       42         2000\n",
       "53       54            8\n",
       "84       86            6\n",
       "67       68            6\n",
       "66       67            6"
      ]
     },
     "execution_count": 78,
     "metadata": {},
     "output_type": "execute_result"
    }
   ],
   "source": [
    "#This table shows the MAX amount of items that were bought per shop.\n",
    "dfsci_1.groupby(dfsci['shop_id'])['total_items'].max().reset_index().sort_values(by=['total_items'], ascending = False).head()"
   ]
  },
  {
   "cell_type": "markdown",
   "id": "677afa94",
   "metadata": {},
   "source": [
    "2,000 sneakers per oder doesn't sound like an average purchase (no offense to millipedes).\n",
    "\n",
    "Shop 42 should also be dropped since their users behaviour affects our data. "
   ]
  },
  {
   "cell_type": "code",
   "execution_count": 112,
   "id": "143c3953",
   "metadata": {},
   "outputs": [],
   "source": [
    "#create a new variable to save the data without disrupting shops.\n",
    "dfsci_2 = dfsci [(dfsci['shop_id'] != 78) & (dfsci['shop_id'] != 42)]"
   ]
  },
  {
   "cell_type": "code",
   "execution_count": 66,
   "id": "6cad728b",
   "metadata": {},
   "outputs": [
    {
     "data": {
      "text/plain": [
       "300.1558229655313"
      ]
     },
     "execution_count": 66,
     "metadata": {},
     "output_type": "execute_result"
    }
   ],
   "source": [
    "#Doublec checking we are in the right track.\n",
    "np.mean(dfsci_1['order_amount'])"
   ]
  },
  {
   "cell_type": "markdown",
   "id": "a1162ef0",
   "metadata": {},
   "source": [
    "<h2>Results<h2>"
   ]
  },
  {
   "cell_type": "markdown",
   "id": "3099541f",
   "metadata": {},
   "source": [
    "We have made it to the final stretch, what our findings show today is that to get a relevant AOV that serves to the \"normal\" buyer, we would have to drop shop 78 and 42. By doing this, our pikes of information are not extremely far and we can find what does the usual buyer spends on sneakers."
   ]
  },
  {
   "cell_type": "markdown",
   "id": "64231298",
   "metadata": {},
   "source": [
    "Let's calculate the new AOV when we drop store 78 and 42."
   ]
  },
  {
   "cell_type": "markdown",
   "id": "fc06d070",
   "metadata": {},
   "source": [
    "  $$ AOV= Revenue / NumberofOrders $$"
   ]
  },
  {
   "cell_type": "code",
   "execution_count": 119,
   "id": "96332d00",
   "metadata": {},
   "outputs": [
    {
     "ename": "TypeError",
     "evalue": "'list' object is not callable",
     "output_type": "error",
     "traceback": [
      "\u001b[1;31m---------------------------------------------------------------------------\u001b[0m",
      "\u001b[1;31mTypeError\u001b[0m                                 Traceback (most recent call last)",
      "\u001b[1;32m~\\AppData\\Local\\Temp/ipykernel_14580/2612368622.py\u001b[0m in \u001b[0;36m<module>\u001b[1;34m\u001b[0m\n\u001b[0;32m      1\u001b[0m \u001b[0maov\u001b[0m \u001b[1;33m=\u001b[0m \u001b[1;36m1471664\u001b[0m\u001b[1;33m/\u001b[0m\u001b[1;36m4904\u001b[0m\u001b[1;33m\u001b[0m\u001b[1;33m\u001b[0m\u001b[0m\n\u001b[1;32m----> 2\u001b[1;33m \u001b[0mprint\u001b[0m\u001b[1;33m(\u001b[0m\u001b[0maov\u001b[0m\u001b[1;33m)\u001b[0m\u001b[1;33m\u001b[0m\u001b[1;33m\u001b[0m\u001b[0m\n\u001b[0m",
      "\u001b[1;31mTypeError\u001b[0m: 'list' object is not callable"
     ]
    }
   ],
   "source": [
    "aov = 1471664/4904\n",
    "print(aov)"
   ]
  },
  {
   "cell_type": "markdown",
   "id": "1e4e55d4",
   "metadata": {},
   "source": [
    "After all this computing and analyzing, now we can see that the Average Order Value is 300.09"
   ]
  },
  {
   "cell_type": "markdown",
   "id": "8772a13e",
   "metadata": {},
   "source": [
    "<h1>Let's go further</h1>"
   ]
  },
  {
   "cell_type": "markdown",
   "id": "16a48e9e",
   "metadata": {},
   "source": [
    "Once we take a look into the numbers and start noticing numbers that are making noise, we realized there were 2 shops disrupting the rest of the information. \n",
    "\n",
    "This disrupting might be something good and definetely something to keep analyzing and studying to see how this kind of shops evolve in shopify's environment. \n",
    "\n",
    "Within the Data Science team, I would suggest getting another category for similar shops where their volume or dollar amount don't fit with the rest of the shops so we can have a full scope of how every shop is doing within our platform and better ways to serve everyone."
   ]
  },
  {
   "cell_type": "markdown",
   "id": "91d28bf0",
   "metadata": {},
   "source": [
    "# ..........................................Thank you...................................."
   ]
  },
  {
   "cell_type": "code",
   "execution_count": null,
   "id": "c7df8adc",
   "metadata": {},
   "outputs": [],
   "source": []
  }
 ],
 "metadata": {
  "kernelspec": {
   "display_name": "Python 3 (ipykernel)",
   "language": "python",
   "name": "python3"
  },
  "language_info": {
   "codemirror_mode": {
    "name": "ipython",
    "version": 3
   },
   "file_extension": ".py",
   "mimetype": "text/x-python",
   "name": "python",
   "nbconvert_exporter": "python",
   "pygments_lexer": "ipython3",
   "version": "3.9.7"
  }
 },
 "nbformat": 4,
 "nbformat_minor": 5
}
